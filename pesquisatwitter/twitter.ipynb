{
 "cells": [
  {
   "cell_type": "code",
   "execution_count": 1,
   "metadata": {
    "collapsed": true
   },
   "outputs": [],
   "source": [
    "from twython import Twython\n",
    "import pandas as pd"
   ]
  },
  {
   "cell_type": "code",
   "execution_count": 5,
   "metadata": {
    "collapsed": true
   },
   "outputs": [],
   "source": [
    "CONSUMER_KEY=\"QR5fsBnBCqD3Rda6szBchJCdW\"\n",
    "CONSUMER_SECRET=\"13FYl5BN0QGd43X1qNhMPSZrjH2Virgo7uHKREv3aKPO3tmBKL\"\n",
    "\n",
    "twitter = Twython(CONSUMER_KEY,CONSUMER_SECRET)\n",
    "search = {}\n",
    "\n",
    "#procura por tweets contendo a palavra python\n",
    "'''for status in twitter.search(q='\"python\"')[\"statuses\"]:\n",
    "    user = status[\"user\"][\"screen_name\"]\n",
    "    text = status[\"text\"]\n",
    "    print(user,\":\",text)\n",
    "    print()'''\n",
    "'''results = twitter.cursor(twitter.search,q='python')\n",
    "\n",
    "for result in results:\n",
    "    user = result[\"user\"][\"screen_name\"]\n",
    "    text = result[\"text\"]\n",
    "    print(user,\":\",text)\n",
    "    print()'''\n",
    "\n",
    "for status in twitter.search(q='\"presidio manaus\"')[\"statuses\"]:\n",
    "    \n",
    "    \n",
    "df = pd.DataFrame(search)"
   ]
  },
  {
   "cell_type": "code",
   "execution_count": 6,
   "metadata": {},
   "outputs": [
    {
     "data": {
      "text/html": [
       "<div>\n",
       "<style>\n",
       "    .dataframe thead tr:only-child th {\n",
       "        text-align: right;\n",
       "    }\n",
       "\n",
       "    .dataframe thead th {\n",
       "        text-align: left;\n",
       "    }\n",
       "\n",
       "    .dataframe tbody tr th {\n",
       "        vertical-align: top;\n",
       "    }\n",
       "</style>\n",
       "<table border=\"1\" class=\"dataframe\">\n",
       "  <thead>\n",
       "    <tr style=\"text-align: right;\">\n",
       "      <th></th>\n",
       "    </tr>\n",
       "  </thead>\n",
       "  <tbody>\n",
       "  </tbody>\n",
       "</table>\n",
       "</div>"
      ],
      "text/plain": [
       "Empty DataFrame\n",
       "Columns: []\n",
       "Index: []"
      ]
     },
     "execution_count": 6,
     "metadata": {},
     "output_type": "execute_result"
    }
   ],
   "source": [
    "df"
   ]
  },
  {
   "cell_type": "code",
   "execution_count": null,
   "metadata": {
    "collapsed": true
   },
   "outputs": [],
   "source": []
  }
 ],
 "metadata": {
  "kernelspec": {
   "display_name": "Python 3",
   "language": "python",
   "name": "python3"
  },
  "language_info": {
   "codemirror_mode": {
    "name": "ipython",
    "version": 3
   },
   "file_extension": ".py",
   "mimetype": "text/x-python",
   "name": "python",
   "nbconvert_exporter": "python",
   "pygments_lexer": "ipython3",
   "version": "3.6.3"
  }
 },
 "nbformat": 4,
 "nbformat_minor": 2
}
