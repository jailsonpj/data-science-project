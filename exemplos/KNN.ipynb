{
 "cells": [
  {
   "cell_type": "code",
   "execution_count": 2,
   "metadata": {
    "collapsed": true
   },
   "outputs": [],
   "source": [
    "'''\n",
    "Implementação do KNN\n",
    "\n",
    "dataset:https://archive.ics.uci.edu/ml/machine-learning-databases/haberman/\n",
    "\n",
    "Descrição do dataset: sobrevivẽncia de pacientes submetidos a cirurgia de câncer de mama \n",
    "'''\n",
    "\n",
    "# lista de amostras \n",
    "amostras =  []\n"
   ]
  },
  {
   "cell_type": "code",
   "execution_count": 4,
   "metadata": {
    "collapsed": true
   },
   "outputs": [],
   "source": [
    "with open('haberman.data','r') as f:\n",
    "    for linha in f.readlines():\n",
    "        atrib = linha.replace('\\n','').split(',')\n",
    "        amostras.append([int(atrib[0]),int(atrib[1]),int(atrib[2]),int(atrib[3])])"
   ]
  },
  {
   "cell_type": "code",
   "execution_count": 6,
   "metadata": {},
   "outputs": [
    {
     "data": {
      "text/plain": [
       "306"
      ]
     },
     "execution_count": 6,
     "metadata": {},
     "output_type": "execute_result"
    }
   ],
   "source": [
    "len(amostras)"
   ]
  },
  {
   "cell_type": "code",
   "execution_count": 7,
   "metadata": {
    "collapsed": true
   },
   "outputs": [],
   "source": [
    "def info_dataset(amostras,verbose=True):\n",
    "    if verbose:\n",
    "        print(\"Total de amostras: %d\" %len(amostras))\n",
    "        \n",
    "    rotulo1,rotulo2 = 0,0\n",
    "    for amostra in amostras:\n",
    "        if amostra[-1] == 1:\n",
    "            rotulo1 += 1\n",
    "        else:\n",
    "            rotulo2 += 1\n",
    "    if verbose:\n",
    "        print(\"Total rotulo 1: %d\" % rotulo1)\n",
    "        print(\"Total rotulo 2: %d\" % rotulo2)\n",
    "    return [len(amostras),rotulo1,rotulo2]"
   ]
  },
  {
   "cell_type": "code",
   "execution_count": 8,
   "metadata": {},
   "outputs": [
    {
     "name": "stdout",
     "output_type": "stream",
     "text": [
      "Total de amostras: 306\n",
      "Total rotulo 1: 225\n",
      "Total rotulo 2: 81\n"
     ]
    },
    {
     "data": {
      "text/plain": [
       "[306, 225, 81]"
      ]
     },
     "execution_count": 8,
     "metadata": {},
     "output_type": "execute_result"
    }
   ],
   "source": [
    "info_dataset(amostras)"
   ]
  },
  {
   "cell_type": "code",
   "execution_count": 9,
   "metadata": {},
   "outputs": [
    {
     "name": "stdout",
     "output_type": "stream",
     "text": [
      "225\n"
     ]
    }
   ],
   "source": [
    "p = 0.6\n",
    "_,rotulo1,rotulo2 = info_dataset(amostras,verbose=False)\n",
    "print(rotulo1)"
   ]
  },
  {
   "cell_type": "code",
   "execution_count": 11,
   "metadata": {
    "collapsed": true
   },
   "outputs": [],
   "source": [
    "treinamento,teste = [],[]\n",
    "max_rot1,max_rot2 = int(p*rotulo1),int(p*rotulo2)\n",
    "total_rot1,total_rot2 = 0,0\n",
    "for amostra in amostras:\n",
    "    if (total_rot1 + total_rot2) < (max_rot1 + max_rot2):\n",
    "        treinamento.append(amostra)\n",
    "        if amostra[-1] == 1 and total_rot1 < max_rot1:\n",
    "            total_rot1 += 1\n",
    "        else:\n",
    "            total_rot2 += 1\n",
    "    else:\n",
    "        teste.append(amostra)"
   ]
  },
  {
   "cell_type": "code",
   "execution_count": 12,
   "metadata": {},
   "outputs": [
    {
     "name": "stdout",
     "output_type": "stream",
     "text": [
      "Total de amostras: 183\n",
      "Total rotulo 1: 132\n",
      "Total rotulo 2: 51\n"
     ]
    },
    {
     "data": {
      "text/plain": [
       "[183, 132, 51]"
      ]
     },
     "execution_count": 12,
     "metadata": {},
     "output_type": "execute_result"
    }
   ],
   "source": [
    "info_dataset(treinamento)"
   ]
  },
  {
   "cell_type": "code",
   "execution_count": 13,
   "metadata": {},
   "outputs": [
    {
     "name": "stdout",
     "output_type": "stream",
     "text": [
      "Total de amostras: 123\n",
      "Total rotulo 1: 93\n",
      "Total rotulo 2: 30\n"
     ]
    },
    {
     "data": {
      "text/plain": [
       "[123, 93, 30]"
      ]
     },
     "execution_count": 13,
     "metadata": {},
     "output_type": "execute_result"
    }
   ],
   "source": [
    "info_dataset(teste)"
   ]
  },
  {
   "cell_type": "code",
   "execution_count": 14,
   "metadata": {
    "collapsed": true
   },
   "outputs": [],
   "source": [
    "import math"
   ]
  },
  {
   "cell_type": "code",
   "execution_count": 17,
   "metadata": {
    "collapsed": true
   },
   "outputs": [],
   "source": [
    "def dist_euclidiana(v1,v2):\n",
    "    dim,soma = len(v1),0\n",
    "    \n",
    "    for i in range(dim -1):\n",
    "        soma += math.pow(v1[i] - v2[i],2)\n",
    "        \n",
    "    return math.sqrt(soma)"
   ]
  },
  {
   "cell_type": "code",
   "execution_count": 18,
   "metadata": {},
   "outputs": [
    {
     "data": {
      "text/plain": [
       "1.4142135623730951"
      ]
     },
     "execution_count": 18,
     "metadata": {},
     "output_type": "execute_result"
    }
   ],
   "source": [
    "#teste da distancia\n",
    "v1 = [1,2,3]\n",
    "v2 = [2,1,5]\n",
    "dist_euclidiana(v1,v2)"
   ]
  },
  {
   "cell_type": "code",
   "execution_count": 20,
   "metadata": {
    "collapsed": true
   },
   "outputs": [],
   "source": [
    "def knn (treinamento,nova_amostra,k):\n",
    "    dists,tam_treino = {},len(treinamento)\n",
    "    \n",
    "    #calcula a distancia euclidiana da nova amostra\n",
    "    #todos os outros exemplos do conjunto de treinamento\n",
    "    for i in range(tam_treino):\n",
    "        d = dist_euclidiana(treinamento[i],nova_amostra)\n",
    "        dists[i] = d\n",
    "        \n",
    "    #obtém as chaves(indices) dos k-vizinhos mais proximos\n",
    "    k_vizinhos = sorted(dists,key=dists.get)[:k]\n",
    "    \n",
    "    #votaçao majoritaria\n",
    "    qtd_rot1,qtd_rot2 = 0,0\n",
    "    for indice in k_vizinhos:\n",
    "        if treinamento[indice][-1] == 1:\n",
    "            qtd_rot1 +=1\n",
    "        else:\n",
    "            qtd_rot2 += 1\n",
    "            \n",
    "    if qtd_rot1 > qtd_rot2:\n",
    "        return 1\n",
    "    else:\n",
    "        return 2"
   ]
  },
  {
   "cell_type": "code",
   "execution_count": 23,
   "metadata": {},
   "outputs": [
    {
     "name": "stdout",
     "output_type": "stream",
     "text": [
      "[56, 66, 2, 1]\n",
      "1\n"
     ]
    }
   ],
   "source": [
    "print(teste[10])\n",
    "print(knn(treinamento,teste[10],k=13))"
   ]
  },
  {
   "cell_type": "code",
   "execution_count": 31,
   "metadata": {},
   "outputs": [
    {
     "name": "stdout",
     "output_type": "stream",
     "text": [
      "Total de treinamento: 183\n",
      "Total de teste: 123\n",
      "Total de acertos: 93\n",
      "Porcentagem de acertos: 75.61\n"
     ]
    }
   ],
   "source": [
    "acertos,k = 0,15\n",
    "for amostra in teste:\n",
    "    classe = knn(treinamento,amostra,k)\n",
    "    if amostra[-1] == classe:\n",
    "        acertos += 1\n",
    "        \n",
    "print(\"Total de treinamento: %d\" % len(treinamento))\n",
    "print(\"Total de teste: %d\" % len(teste))\n",
    "print(\"Total de acertos: %d\" % acertos)\n",
    "print(\"Porcentagem de acertos: %.2f\" % (100 *acertos / len(teste)))"
   ]
  },
  {
   "cell_type": "code",
   "execution_count": 2,
   "metadata": {},
   "outputs": [],
   "source": [
    "# Implementação do KNN com skLearn\n",
    "from sklearn.neighbors import KNeighborsClassifier"
   ]
  },
  {
   "cell_type": "code",
   "execution_count": 3,
   "metadata": {
    "collapsed": true
   },
   "outputs": [],
   "source": [
    "entradas , saidas = [],[]"
   ]
  },
  {
   "cell_type": "code",
   "execution_count": 4,
   "metadata": {
    "collapsed": true
   },
   "outputs": [],
   "source": [
    "with open('haberman.data','r') as f:\n",
    "    for linha in f.readlines():\n",
    "        atrib = linha.replace('\\n','').split(',')\n",
    "        entradas.append([int(atrib[0]),int(atrib[2])])#lista de lista\n",
    "        saidas.append(int(atrib[3]))"
   ]
  },
  {
   "cell_type": "code",
   "execution_count": 12,
   "metadata": {},
   "outputs": [
    {
     "name": "stdout",
     "output_type": "stream",
     "text": [
      "Total de treinamento: 183\n",
      "total de testes: 123\n",
      "Total de acertos: 92\n",
      "Porcentagem de acertos: 74.80\n"
     ]
    }
   ],
   "source": [
    "p = 0.6 #procentagem dos dados para terinamento\n",
    "\n",
    "limite = int(p * len(entradas))\n",
    "knn = KNeighborsClassifier(n_neighbors=13)\n",
    "knn.fit(entradas[:limite],saidas[:limite]) #.fit() faz o treinameto do algoritmo\n",
    "labels = knn.predict(entradas[limite:]) #faz o teste do algoritmo\n",
    "acertos,indice_label = 0,0\n",
    "\n",
    "for i in range(limite,len(entradas)):\n",
    "    if labels[indice_label] == saidas[i]:\n",
    "        acertos += 1\n",
    "    indice_label += 1\n",
    "    \n",
    "print('Total de treinamento: %d' % limite)\n",
    "print(\"total de testes: %d\" %(len(entradas) - limite))\n",
    "print('Total de acertos: %d' %acertos)\n",
    "print('Porcentagem de acertos: %.2f' % (100 * acertos / (len(entradas) - limite)))"
   ]
  },
  {
   "cell_type": "code",
   "execution_count": 13,
   "metadata": {},
   "outputs": [
    {
     "name": "stdout",
     "output_type": "stream",
     "text": [
      "625\n",
      "625\n",
      "[[ 1.  1.  1.  1.]\n",
      " [ 1.  1.  1.  2.]\n",
      " [ 1.  1.  1.  3.]\n",
      " ..., \n",
      " [ 5.  5.  5.  3.]\n",
      " [ 5.  5.  5.  4.]\n",
      " [ 5.  5.  5.  5.]]\n",
      "[ 2.  3.  3.  3.  3.  3.  3.  3.  3.  3.  3.  3.  3.  3.  3.  3.  3.  3.\n",
      "  3.  3.  3.  3.  3.  3.  3.  1.  2.  3.  3.  3.  2.  3.  3.  3.  3.  3.\n",
      "  3.  3.  3.  3.  3.  3.  3.  3.  3.  3.  3.  3.  3.  3.  1.  1.  2.  3.\n",
      "  3.  1.  3.  3.  3.  3.  2.  3.  3.  3.  3.  3.  3.  3.  3.  3.  3.  3.\n",
      "  3.  3.  3.  1.  1.  1.  2.  3.  1.  2.  3.  3.  3.  1.  3.  3.  3.  3.\n",
      "  2.  3.  3.  3.  3.  3.  3.  3.  3.  3.  1.  1.  1.  1.  2.  1.  1.  3.\n",
      "  3.  3.  1.  3.  3.  3.  3.  1.  3.  3.  3.  3.  2.  3.  3.  3.  3.  1.\n",
      "  2.  3.  3.  3.  2.  3.  3.  3.  3.  3.  3.  3.  3.  3.  3.  3.  3.  3.\n",
      "  3.  3.  3.  3.  3.  3.  1.  1.  1.  2.  3.  1.  2.  3.  3.  3.  1.  3.\n",
      "  3.  3.  3.  2.  3.  3.  3.  3.  3.  3.  3.  3.  3.  1.  1.  1.  1.  1.\n",
      "  1.  1.  2.  3.  3.  1.  2.  3.  3.  3.  1.  3.  3.  3.  3.  1.  3.  3.\n",
      "  3.  3.  1.  1.  1.  1.  1.  1.  1.  1.  2.  3.  1.  1.  3.  3.  3.  1.\n",
      "  2.  3.  3.  3.  1.  3.  3.  3.  3.  1.  1.  1.  1.  1.  1.  1.  1.  1.\n",
      "  2.  1.  1.  1.  3.  3.  1.  1.  3.  3.  3.  1.  2.  3.  3.  3.  1.  1.\n",
      "  2.  3.  3.  1.  3.  3.  3.  3.  2.  3.  3.  3.  3.  3.  3.  3.  3.  3.\n",
      "  3.  3.  3.  3.  3.  1.  1.  1.  1.  1.  1.  1.  2.  3.  3.  1.  2.  3.\n",
      "  3.  3.  1.  3.  3.  3.  3.  1.  3.  3.  3.  3.  1.  1.  1.  1.  1.  1.\n",
      "  1.  1.  1.  3.  1.  1.  2.  3.  3.  1.  1.  3.  3.  3.  1.  3.  3.  3.\n",
      "  3.  1.  1.  1.  1.  1.  1.  1.  1.  1.  1.  1.  1.  1.  2.  3.  1.  1.\n",
      "  2.  3.  3.  1.  1.  3.  3.  3.  1.  1.  1.  1.  1.  1.  1.  1.  1.  1.\n",
      "  1.  1.  1.  1.  2.  1.  1.  1.  3.  3.  1.  1.  2.  3.  3.  1.  1.  1.\n",
      "  2.  3.  1.  2.  3.  3.  3.  1.  3.  3.  3.  3.  2.  3.  3.  3.  3.  3.\n",
      "  3.  3.  3.  3.  1.  1.  1.  1.  1.  1.  1.  1.  2.  3.  1.  1.  3.  3.\n",
      "  3.  1.  2.  3.  3.  3.  1.  3.  3.  3.  3.  1.  1.  1.  1.  1.  1.  1.\n",
      "  1.  1.  1.  1.  1.  1.  2.  3.  1.  1.  2.  3.  3.  1.  1.  3.  3.  3.\n",
      "  1.  1.  1.  1.  1.  1.  1.  1.  1.  1.  1.  1.  1.  1.  1.  1.  1.  1.\n",
      "  2.  3.  1.  1.  1.  3.  3.  1.  1.  1.  1.  1.  1.  1.  1.  1.  1.  1.\n",
      "  1.  1.  1.  1.  1.  1.  1.  1.  2.  1.  1.  1.  2.  3.  1.  1.  1.  1.\n",
      "  2.  1.  1.  3.  3.  3.  1.  3.  3.  3.  3.  1.  3.  3.  3.  3.  2.  3.\n",
      "  3.  3.  3.  1.  1.  1.  1.  1.  1.  1.  1.  1.  2.  1.  1.  1.  3.  3.\n",
      "  1.  1.  3.  3.  3.  1.  2.  3.  3.  3.  1.  1.  1.  1.  1.  1.  1.  1.\n",
      "  1.  1.  1.  1.  1.  1.  2.  1.  1.  1.  3.  3.  1.  1.  2.  3.  3.  1.\n",
      "  1.  1.  1.  1.  1.  1.  1.  1.  1.  1.  1.  1.  1.  1.  1.  1.  1.  1.\n",
      "  2.  1.  1.  1.  2.  3.  1.  1.  1.  1.  1.  1.  1.  1.  1.  1.  1.  1.\n",
      "  1.  1.  1.  1.  1.  1.  1.  1.  1.  1.  1.  1.  2.]\n"
     ]
    }
   ],
   "source": [
    "#implementacao do KNN com NumPy e sklearn\n",
    "\n",
    "import numpy as np\n",
    "\n",
    "# x sao entrdas e y sao saidas\n",
    "x = np.genfromtxt('dataset.data',delimiter=',',usecols=(1,2,3,4))\n",
    "y = np.genfromtxt('dataset.data',delimiter=',',usecols=(0))\n",
    "print(len(x))\n",
    "print(len(y))\n",
    "print(x)\n",
    "print(y)"
   ]
  },
  {
   "cell_type": "code",
   "execution_count": 15,
   "metadata": {},
   "outputs": [
    {
     "name": "stdout",
     "output_type": "stream",
     "text": [
      "437\n"
     ]
    },
    {
     "data": {
      "text/plain": [
       "array([[ 2.,  4.,  1.,  5.],\n",
       "       [ 1.,  4.,  3.,  4.],\n",
       "       [ 5.,  1.,  5.,  3.],\n",
       "       ..., \n",
       "       [ 3.,  1.,  5.,  1.],\n",
       "       [ 4.,  3.,  3.,  1.],\n",
       "       [ 1.,  5.,  1.,  3.]])"
      ]
     },
     "execution_count": 15,
     "metadata": {},
     "output_type": "execute_result"
    }
   ],
   "source": [
    "from sklearn.model_selection import train_test_split\n",
    "\n",
    "x_treino,x_teste,y_treino,y_teste = train_test_split(x,y,test_size=0.3,random_state=42)\n",
    "\n",
    "print(len(x_treino))\n",
    "x_treino"
   ]
  },
  {
   "cell_type": "code",
   "execution_count": 16,
   "metadata": {},
   "outputs": [
    {
     "data": {
      "text/plain": [
       "3.0"
      ]
     },
     "execution_count": 16,
     "metadata": {},
     "output_type": "execute_result"
    }
   ],
   "source": [
    "y_teste[0]"
   ]
  },
  {
   "cell_type": "code",
   "execution_count": 17,
   "metadata": {},
   "outputs": [
    {
     "name": "stdout",
     "output_type": "stream",
     "text": [
      "188\n"
     ]
    },
    {
     "data": {
      "text/plain": [
       "array([ 1.,  1.,  1.,  1.,  1.,  1.,  3.,  1.,  1.,  3.,  3.,  3.,  1.,\n",
       "        3.,  1.,  1.,  3.,  3.,  3.,  1.,  3.,  3.,  3.,  1.,  1.,  1.,\n",
       "        3.,  1.,  1.,  1.,  1.,  3.,  3.,  1.,  3.,  1.,  1.,  1.,  1.,\n",
       "        1.,  1.,  3.,  1.,  1.,  3.,  1.,  1.,  3.,  1.,  3.,  1.,  1.,\n",
       "        3.,  3.,  1.,  1.,  3.,  1.,  1.,  1.,  1.,  1.,  3.,  3.,  1.,\n",
       "        1.,  3.,  3.,  1.,  1.,  3.,  3.,  3.,  3.,  3.,  1.,  1.,  3.,\n",
       "        1.,  3.,  3.,  3.,  3.,  1.,  3.,  1.,  1.,  1.,  3.,  1.,  1.,\n",
       "        1.,  3.,  1.,  1.,  3.,  3.,  3.,  3.,  3.,  1.,  3.,  3.,  3.,\n",
       "        1.,  1.,  1.,  3.,  3.,  1.,  3.,  1.,  3.,  3.,  1.,  3.,  1.,\n",
       "        1.,  1.,  1.,  3.,  3.,  1.,  3.,  3.,  3.,  3.,  3.,  1.,  3.,\n",
       "        1.,  1.,  1.,  3.,  1.,  1.,  1.,  3.,  1.,  1.,  1.,  1.,  3.,\n",
       "        3.,  1.,  3.,  3.,  1.,  3.,  3.,  3.,  3.,  3.,  1.,  1.,  3.,\n",
       "        1.,  1.,  3.,  1.,  1.,  3.,  3.,  1.,  1.,  1.,  3.,  1.,  3.,\n",
       "        3.,  1.,  3.,  3.,  3.,  1.,  1.,  1.,  1.,  3.,  1.,  3.,  3.,\n",
       "        1.,  3.,  3.,  3.,  3.,  1.])"
      ]
     },
     "execution_count": 17,
     "metadata": {},
     "output_type": "execute_result"
    }
   ],
   "source": [
    "from sklearn.neighbors import KNeighborsClassifier\n",
    "knn = KNeighborsClassifier(n_neighbors=17)\n",
    "knn.fit(x_treino,y_treino)\n",
    "labels = knn.predict(x_teste)\n",
    "print(len(labels))\n",
    "labels"
   ]
  },
  {
   "cell_type": "code",
   "execution_count": 19,
   "metadata": {},
   "outputs": [
    {
     "data": {
      "text/plain": [
       "163"
      ]
     },
     "execution_count": 19,
     "metadata": {},
     "output_type": "execute_result"
    }
   ],
   "source": [
    "#acertos da classificação\n",
    "np.sum(labels == y_teste)"
   ]
  },
  {
   "cell_type": "code",
   "execution_count": 20,
   "metadata": {},
   "outputs": [
    {
     "data": {
      "text/plain": [
       "86.702127659574472"
      ]
     },
     "execution_count": 20,
     "metadata": {},
     "output_type": "execute_result"
    }
   ],
   "source": [
    "#procentagem de acertos\n",
    "100 * (labels == y_teste).sum() / len(x_teste)"
   ]
  },
  {
   "cell_type": "code",
   "execution_count": 22,
   "metadata": {},
   "outputs": [
    {
     "data": {
      "text/plain": [
       "0.86702127659574468"
      ]
     },
     "execution_count": 22,
     "metadata": {},
     "output_type": "execute_result"
    }
   ],
   "source": [
    "knn.score(x_teste,y_teste)"
   ]
  },
  {
   "cell_type": "code",
   "execution_count": null,
   "metadata": {
    "collapsed": true
   },
   "outputs": [],
   "source": []
  }
 ],
 "metadata": {
  "kernelspec": {
   "display_name": "Python 3",
   "language": "python",
   "name": "python3"
  },
  "language_info": {
   "codemirror_mode": {
    "name": "ipython",
    "version": 3
   },
   "file_extension": ".py",
   "mimetype": "text/x-python",
   "name": "python",
   "nbconvert_exporter": "python",
   "pygments_lexer": "ipython3",
   "version": "3.6.3"
  }
 },
 "nbformat": 4,
 "nbformat_minor": 2
}
